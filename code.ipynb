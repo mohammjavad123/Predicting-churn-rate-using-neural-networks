{
  "nbformat": 4,
  "nbformat_minor": 0,
  "metadata": {
    "colab": {
      "name": "tamrin1.ipynb",
      "provenance": [],
      "collapsed_sections": [],
      "toc_visible": true
    },
    "kernelspec": {
      "name": "python3",
      "display_name": "Python 3"
    }
  },
  "cells": [
    {
      "cell_type": "markdown",
      "metadata": {
        "id": "gWZyYmS_UE_L"
      },
      "source": [
        "وارد کردن کتابخانه ها\n",
        "\n"
      ]
    },
    {
      "cell_type": "code",
      "metadata": {
        "id": "MxkJoQBkUIHC"
      },
      "source": [
        "import numpy as np\n",
        "import pandas as pd\n",
        "import tensorflow as tf\n",
        "import matplotlib.pyplot as plt\n",
        "from sklearn.metrics import plot_confusion_matrix\n",
        "import seaborn as sn\n",
        "from sklearn.metrics import confusion_matrix"
      ],
      "execution_count": 113,
      "outputs": []
    },
    {
      "cell_type": "markdown",
      "metadata": {
        "id": "1E0Q3aoKUCRX"
      },
      "source": [
        "پردازش داده ها"
      ]
    },
    {
      "cell_type": "markdown",
      "metadata": {
        "id": "cKWAkFVGUU0Z"
      },
      "source": [
        "ایمپورت کردن دیتا ست و جدا کردن ستون های مستقل و وابسته"
      ]
    },
    {
      "cell_type": "code",
      "metadata": {
        "id": "MXUkhkMfU4wq"
      },
      "source": [
        "dataset = pd.read_csv('Proj1_Data.csv')\n",
        "X = dataset.iloc[:, 3:-1].values\n",
        "y = dataset.iloc[:, -1].values"
      ],
      "execution_count": 114,
      "outputs": []
    },
    {
      "cell_type": "markdown",
      "metadata": {
        "id": "le5MJreAbW52"
      },
      "source": [
        "تبدیل کردن ستون(جنسیت) \n",
        "به مقادیر کمی برای برای یادگیری بهتر\n"
      ]
    },
    {
      "cell_type": "code",
      "metadata": {
        "id": "PxVKWXxLbczC"
      },
      "source": [
        "from sklearn.preprocessing import LabelEncoder\n",
        "label = LabelEncoder()\n",
        "X[:, 2] = label.fit_transform(X[:, 2])"
      ],
      "execution_count": 115,
      "outputs": []
    },
    {
      "cell_type": "code",
      "metadata": {
        "id": "-M1KboxFb6OO",
        "outputId": "db35d888-aef3-4e78-d6ea-7c2dc94b40e2",
        "colab": {
          "base_uri": "https://localhost:8080/"
        }
      },
      "source": [
        "print(X)"
      ],
      "execution_count": 116,
      "outputs": [
        {
          "output_type": "stream",
          "text": [
            "[[619 'France' 0 ... 1 1 101348.88]\n",
            " [608 'Spain' 0 ... 0 1 112542.58]\n",
            " [502 'France' 0 ... 1 0 113931.57]\n",
            " ...\n",
            " [709 'France' 0 ... 0 1 42085.58]\n",
            " [772 'Germany' 1 ... 1 0 92888.52]\n",
            " [792 'France' 0 ... 1 0 38190.78]]\n"
          ],
          "name": "stdout"
        }
      ]
    },
    {
      "cell_type": "markdown",
      "metadata": {
        "id": "CUxGZezpbMcb"
      },
      "source": [
        "تبدیل ستون موقعیت جغرافیای یه مقادیر کمی به منظور در نظر گرفتن این ویژگی برای یادگیری"
      ]
    },
    {
      "cell_type": "code",
      "metadata": {
        "id": "AMXC8-KMVirw"
      },
      "source": [
        "from sklearn.compose import ColumnTransformer\n",
        "from sklearn.preprocessing import OneHotEncoder\n",
        "ct = ColumnTransformer(transformers=[('encoder', OneHotEncoder(), [1])], remainder='passthrough')\n",
        "X = np.array(ct.fit_transform(X))"
      ],
      "execution_count": 117,
      "outputs": []
    },
    {
      "cell_type": "code",
      "metadata": {
        "id": "ZcxwEon-b8nV",
        "outputId": "41c77aa1-12ed-4cfa-9afa-27d80a6091a0",
        "colab": {
          "base_uri": "https://localhost:8080/"
        }
      },
      "source": [
        "print(X)"
      ],
      "execution_count": 7,
      "outputs": [
        {
          "output_type": "stream",
          "text": [
            "[[1.0 0.0 0.0 ... 1 1 101348.88]\n",
            " [0.0 0.0 1.0 ... 0 1 112542.58]\n",
            " [1.0 0.0 0.0 ... 1 0 113931.57]\n",
            " ...\n",
            " [1.0 0.0 0.0 ... 0 1 42085.58]\n",
            " [0.0 1.0 0.0 ... 1 0 92888.52]\n",
            " [1.0 0.0 0.0 ... 1 0 38190.78]]\n"
          ],
          "name": "stdout"
        }
      ]
    },
    {
      "cell_type": "markdown",
      "metadata": {
        "id": "vHol938cW8zd"
      },
      "source": [
        "جدا سازی مجموعه داده به 2 مجموعه تست و یادگیری\n",
        "بعد از تبدیل ستون های کتگوریکال به اعداد"
      ]
    },
    {
      "cell_type": "code",
      "metadata": {
        "id": "Z-TDt0Y_XEfc"
      },
      "source": [
        "from sklearn.model_selection import train_test_split\n",
        "X_train, X_test, y_train, y_test = train_test_split(X, y, test_size = 0.2, random_state = 0)"
      ],
      "execution_count": 118,
      "outputs": []
    },
    {
      "cell_type": "markdown",
      "metadata": {
        "id": "RE_FcHyfV3TQ"
      },
      "source": [
        "اعمال اسکیل مناسب روی داده ها برای یادگیری بهتر"
      ]
    },
    {
      "cell_type": "code",
      "metadata": {
        "id": "ViCrE00rV8Sk"
      },
      "source": [
        "from sklearn.preprocessing import StandardScaler\n",
        "sc = StandardScaler()\n",
        "X_train = sc.fit_transform(X_train)\n",
        "X_test = sc.transform(X_test)"
      ],
      "execution_count": 119,
      "outputs": []
    },
    {
      "cell_type": "markdown",
      "metadata": {
        "id": "EctHrotujCQq"
      },
      "source": [
        "ساخت شبکه عصبی اول"
      ]
    },
    {
      "cell_type": "markdown",
      "metadata": {
        "id": "sMIpdkJnjCQ9"
      },
      "source": [
        "مقدار دهی اولیه"
      ]
    },
    {
      "cell_type": "code",
      "metadata": {
        "id": "ckrh0i--jCQ_"
      },
      "source": [
        "ann1 = tf.keras.models.Sequential()"
      ],
      "execution_count": 120,
      "outputs": []
    },
    {
      "cell_type": "markdown",
      "metadata": {
        "id": "1o0_wOGbjCRM"
      },
      "source": [
        "اضافه کردن لایه ورودی و اولین لایه پنهان"
      ]
    },
    {
      "cell_type": "code",
      "metadata": {
        "id": "YSTsdtJ9jCRO"
      },
      "source": [
        "ann1.add(tf.keras.layers.Dense(units=6, activation='sigmoid'))"
      ],
      "execution_count": 121,
      "outputs": []
    },
    {
      "cell_type": "markdown",
      "metadata": {
        "id": "G0hHVc1JjCRU"
      },
      "source": [
        "اضافه کردن لایه دوم پنهان"
      ]
    },
    {
      "cell_type": "code",
      "metadata": {
        "id": "5PuJusLmjCRV"
      },
      "source": [
        "ann1.add(tf.keras.layers.Dense(units=6, activation='sigmoid'))"
      ],
      "execution_count": 122,
      "outputs": []
    },
    {
      "cell_type": "markdown",
      "metadata": {
        "id": "4Vvcvj3FjCRa"
      },
      "source": [
        "اضافه کردن لایه خروجی"
      ]
    },
    {
      "cell_type": "code",
      "metadata": {
        "id": "R2wiLTHPjCRb"
      },
      "source": [
        "ann1.add(tf.keras.layers.Dense(units=1, activation='relu'))"
      ],
      "execution_count": 123,
      "outputs": []
    },
    {
      "cell_type": "markdown",
      "metadata": {
        "id": "HqgUWZQPjCRh"
      },
      "source": [
        "  اموزش شبکه عصبی اول"
      ]
    },
    {
      "cell_type": "markdown",
      "metadata": {
        "id": "qnZfxwkdjCRh"
      },
      "source": [
        "کامپایل کردن شبکه با مقادیر دلخواه"
      ]
    },
    {
      "cell_type": "code",
      "metadata": {
        "id": "onemWl3TjCRi"
      },
      "source": [
        "ann1.compile(optimizer = 'adam', loss = 'binary_crossentropy', metrics = ['accuracy'])"
      ],
      "execution_count": 124,
      "outputs": []
    },
    {
      "cell_type": "markdown",
      "metadata": {
        "id": "RNC2eR3JjCRp"
      },
      "source": [
        "آموزش شبکه روی دیتاست آموزشی"
      ]
    },
    {
      "cell_type": "code",
      "metadata": {
        "id": "YX9tKOwBjCRq",
        "outputId": "223523f5-65a2-439a-9aaa-bf4b7fec286f",
        "colab": {
          "base_uri": "https://localhost:8080/"
        }
      },
      "source": [
        "history1 =ann1.fit(X_train, y_train, batch_size = 32,validation_split=0.2, epochs = 100)\n"
      ],
      "execution_count": 125,
      "outputs": [
        {
          "output_type": "stream",
          "text": [
            "Epoch 1/100\n",
            "200/200 [==============================] - 0s 2ms/step - loss: 3.1501 - accuracy: 0.7958 - val_loss: 3.1332 - val_accuracy: 0.7969\n",
            "Epoch 2/100\n",
            "200/200 [==============================] - 0s 1ms/step - loss: 3.1501 - accuracy: 0.7958 - val_loss: 3.1332 - val_accuracy: 0.7969\n",
            "Epoch 3/100\n",
            "200/200 [==============================] - 0s 1ms/step - loss: 3.1501 - accuracy: 0.7958 - val_loss: 3.1332 - val_accuracy: 0.7969\n",
            "Epoch 4/100\n",
            "200/200 [==============================] - 0s 1ms/step - loss: 3.1501 - accuracy: 0.7958 - val_loss: 3.1332 - val_accuracy: 0.7969\n",
            "Epoch 5/100\n",
            "200/200 [==============================] - 0s 1ms/step - loss: 3.1501 - accuracy: 0.7958 - val_loss: 3.1332 - val_accuracy: 0.7969\n",
            "Epoch 6/100\n",
            "200/200 [==============================] - 0s 1ms/step - loss: 3.1501 - accuracy: 0.7958 - val_loss: 3.1332 - val_accuracy: 0.7969\n",
            "Epoch 7/100\n",
            "200/200 [==============================] - 0s 1ms/step - loss: 3.1501 - accuracy: 0.7958 - val_loss: 3.1332 - val_accuracy: 0.7969\n",
            "Epoch 8/100\n",
            "200/200 [==============================] - 0s 1ms/step - loss: 3.1501 - accuracy: 0.7958 - val_loss: 3.1332 - val_accuracy: 0.7969\n",
            "Epoch 9/100\n",
            "200/200 [==============================] - 0s 1ms/step - loss: 3.1501 - accuracy: 0.7958 - val_loss: 3.1332 - val_accuracy: 0.7969\n",
            "Epoch 10/100\n",
            "200/200 [==============================] - 0s 1ms/step - loss: 3.1501 - accuracy: 0.7958 - val_loss: 3.1332 - val_accuracy: 0.7969\n",
            "Epoch 11/100\n",
            "200/200 [==============================] - 0s 1ms/step - loss: 3.1501 - accuracy: 0.7958 - val_loss: 3.1332 - val_accuracy: 0.7969\n",
            "Epoch 12/100\n",
            "200/200 [==============================] - 0s 1ms/step - loss: 3.1501 - accuracy: 0.7958 - val_loss: 3.1332 - val_accuracy: 0.7969\n",
            "Epoch 13/100\n",
            "200/200 [==============================] - 0s 1ms/step - loss: 3.1501 - accuracy: 0.7958 - val_loss: 3.1332 - val_accuracy: 0.7969\n",
            "Epoch 14/100\n",
            "200/200 [==============================] - 0s 1ms/step - loss: 3.1501 - accuracy: 0.7958 - val_loss: 3.1332 - val_accuracy: 0.7969\n",
            "Epoch 15/100\n",
            "200/200 [==============================] - 0s 1ms/step - loss: 3.1501 - accuracy: 0.7958 - val_loss: 3.1332 - val_accuracy: 0.7969\n",
            "Epoch 16/100\n",
            "200/200 [==============================] - 0s 1ms/step - loss: 3.1501 - accuracy: 0.7958 - val_loss: 3.1332 - val_accuracy: 0.7969\n",
            "Epoch 17/100\n",
            "200/200 [==============================] - 0s 1ms/step - loss: 3.1501 - accuracy: 0.7958 - val_loss: 3.1332 - val_accuracy: 0.7969\n",
            "Epoch 18/100\n",
            "200/200 [==============================] - 0s 1ms/step - loss: 3.1501 - accuracy: 0.7958 - val_loss: 3.1332 - val_accuracy: 0.7969\n",
            "Epoch 19/100\n",
            "200/200 [==============================] - 0s 1ms/step - loss: 3.1501 - accuracy: 0.7958 - val_loss: 3.1332 - val_accuracy: 0.7969\n",
            "Epoch 20/100\n",
            "200/200 [==============================] - 0s 1ms/step - loss: 3.1501 - accuracy: 0.7958 - val_loss: 3.1332 - val_accuracy: 0.7969\n",
            "Epoch 21/100\n",
            "200/200 [==============================] - 0s 1ms/step - loss: 3.1501 - accuracy: 0.7958 - val_loss: 3.1332 - val_accuracy: 0.7969\n",
            "Epoch 22/100\n",
            "200/200 [==============================] - 0s 1ms/step - loss: 3.1501 - accuracy: 0.7958 - val_loss: 3.1332 - val_accuracy: 0.7969\n",
            "Epoch 23/100\n",
            "200/200 [==============================] - 0s 1ms/step - loss: 3.1501 - accuracy: 0.7958 - val_loss: 3.1332 - val_accuracy: 0.7969\n",
            "Epoch 24/100\n",
            "200/200 [==============================] - 0s 1ms/step - loss: 3.1501 - accuracy: 0.7958 - val_loss: 3.1332 - val_accuracy: 0.7969\n",
            "Epoch 25/100\n",
            "200/200 [==============================] - 0s 1ms/step - loss: 3.1501 - accuracy: 0.7958 - val_loss: 3.1332 - val_accuracy: 0.7969\n",
            "Epoch 26/100\n",
            "200/200 [==============================] - 0s 1ms/step - loss: 3.1501 - accuracy: 0.7958 - val_loss: 3.1332 - val_accuracy: 0.7969\n",
            "Epoch 27/100\n",
            "200/200 [==============================] - 0s 1ms/step - loss: 3.1501 - accuracy: 0.7958 - val_loss: 3.1332 - val_accuracy: 0.7969\n",
            "Epoch 28/100\n",
            "200/200 [==============================] - 0s 1ms/step - loss: 3.1501 - accuracy: 0.7958 - val_loss: 3.1332 - val_accuracy: 0.7969\n",
            "Epoch 29/100\n",
            "200/200 [==============================] - 0s 1ms/step - loss: 3.1501 - accuracy: 0.7958 - val_loss: 3.1332 - val_accuracy: 0.7969\n",
            "Epoch 30/100\n",
            "200/200 [==============================] - 0s 1ms/step - loss: 3.1501 - accuracy: 0.7958 - val_loss: 3.1332 - val_accuracy: 0.7969\n",
            "Epoch 31/100\n",
            "200/200 [==============================] - 0s 1ms/step - loss: 3.1501 - accuracy: 0.7958 - val_loss: 3.1332 - val_accuracy: 0.7969\n",
            "Epoch 32/100\n",
            "200/200 [==============================] - 0s 1ms/step - loss: 3.1501 - accuracy: 0.7958 - val_loss: 3.1332 - val_accuracy: 0.7969\n",
            "Epoch 33/100\n",
            "200/200 [==============================] - 0s 1ms/step - loss: 3.1501 - accuracy: 0.7958 - val_loss: 3.1332 - val_accuracy: 0.7969\n",
            "Epoch 34/100\n",
            "200/200 [==============================] - 0s 1ms/step - loss: 3.1501 - accuracy: 0.7958 - val_loss: 3.1332 - val_accuracy: 0.7969\n",
            "Epoch 35/100\n",
            "200/200 [==============================] - 0s 1ms/step - loss: 3.1501 - accuracy: 0.7958 - val_loss: 3.1332 - val_accuracy: 0.7969\n",
            "Epoch 36/100\n",
            "200/200 [==============================] - 0s 1ms/step - loss: 3.1501 - accuracy: 0.7958 - val_loss: 3.1332 - val_accuracy: 0.7969\n",
            "Epoch 37/100\n",
            "200/200 [==============================] - 0s 1ms/step - loss: 3.1501 - accuracy: 0.7958 - val_loss: 3.1332 - val_accuracy: 0.7969\n",
            "Epoch 38/100\n",
            "200/200 [==============================] - 0s 1ms/step - loss: 3.1501 - accuracy: 0.7958 - val_loss: 3.1332 - val_accuracy: 0.7969\n",
            "Epoch 39/100\n",
            "200/200 [==============================] - 0s 1ms/step - loss: 3.1501 - accuracy: 0.7958 - val_loss: 3.1332 - val_accuracy: 0.7969\n",
            "Epoch 40/100\n",
            "200/200 [==============================] - 0s 1ms/step - loss: 3.1501 - accuracy: 0.7958 - val_loss: 3.1332 - val_accuracy: 0.7969\n",
            "Epoch 41/100\n",
            "200/200 [==============================] - 0s 1ms/step - loss: 3.1501 - accuracy: 0.7958 - val_loss: 3.1332 - val_accuracy: 0.7969\n",
            "Epoch 42/100\n",
            "200/200 [==============================] - 0s 1ms/step - loss: 3.1501 - accuracy: 0.7958 - val_loss: 3.1332 - val_accuracy: 0.7969\n",
            "Epoch 43/100\n",
            "200/200 [==============================] - 0s 1ms/step - loss: 3.1501 - accuracy: 0.7958 - val_loss: 3.1332 - val_accuracy: 0.7969\n",
            "Epoch 44/100\n",
            "200/200 [==============================] - 0s 1ms/step - loss: 3.1501 - accuracy: 0.7958 - val_loss: 3.1332 - val_accuracy: 0.7969\n",
            "Epoch 45/100\n",
            "200/200 [==============================] - 0s 1ms/step - loss: 3.1501 - accuracy: 0.7958 - val_loss: 3.1332 - val_accuracy: 0.7969\n",
            "Epoch 46/100\n",
            "200/200 [==============================] - 0s 1ms/step - loss: 3.1501 - accuracy: 0.7958 - val_loss: 3.1332 - val_accuracy: 0.7969\n",
            "Epoch 47/100\n",
            "200/200 [==============================] - 0s 1ms/step - loss: 3.1501 - accuracy: 0.7958 - val_loss: 3.1332 - val_accuracy: 0.7969\n",
            "Epoch 48/100\n",
            "200/200 [==============================] - 0s 1ms/step - loss: 3.1501 - accuracy: 0.7958 - val_loss: 3.1332 - val_accuracy: 0.7969\n",
            "Epoch 49/100\n",
            "200/200 [==============================] - 0s 1ms/step - loss: 3.1501 - accuracy: 0.7958 - val_loss: 3.1332 - val_accuracy: 0.7969\n",
            "Epoch 50/100\n",
            "200/200 [==============================] - 0s 1ms/step - loss: 3.1501 - accuracy: 0.7958 - val_loss: 3.1332 - val_accuracy: 0.7969\n",
            "Epoch 51/100\n",
            "200/200 [==============================] - 0s 1ms/step - loss: 3.1501 - accuracy: 0.7958 - val_loss: 3.1332 - val_accuracy: 0.7969\n",
            "Epoch 52/100\n",
            "200/200 [==============================] - 0s 1ms/step - loss: 3.1501 - accuracy: 0.7958 - val_loss: 3.1332 - val_accuracy: 0.7969\n",
            "Epoch 53/100\n",
            "200/200 [==============================] - 0s 1ms/step - loss: 3.1501 - accuracy: 0.7958 - val_loss: 3.1332 - val_accuracy: 0.7969\n",
            "Epoch 54/100\n",
            "200/200 [==============================] - 0s 1ms/step - loss: 3.1501 - accuracy: 0.7958 - val_loss: 3.1332 - val_accuracy: 0.7969\n",
            "Epoch 55/100\n",
            "200/200 [==============================] - 0s 1ms/step - loss: 3.1501 - accuracy: 0.7958 - val_loss: 3.1332 - val_accuracy: 0.7969\n",
            "Epoch 56/100\n",
            "200/200 [==============================] - 0s 1ms/step - loss: 3.1501 - accuracy: 0.7958 - val_loss: 3.1332 - val_accuracy: 0.7969\n",
            "Epoch 57/100\n",
            "200/200 [==============================] - 0s 1ms/step - loss: 3.1501 - accuracy: 0.7958 - val_loss: 3.1332 - val_accuracy: 0.7969\n",
            "Epoch 58/100\n",
            "200/200 [==============================] - 0s 1ms/step - loss: 3.1501 - accuracy: 0.7958 - val_loss: 3.1332 - val_accuracy: 0.7969\n",
            "Epoch 59/100\n",
            "200/200 [==============================] - 0s 1ms/step - loss: 3.1501 - accuracy: 0.7958 - val_loss: 3.1332 - val_accuracy: 0.7969\n",
            "Epoch 60/100\n",
            "200/200 [==============================] - 0s 1ms/step - loss: 3.1501 - accuracy: 0.7958 - val_loss: 3.1332 - val_accuracy: 0.7969\n",
            "Epoch 61/100\n",
            "200/200 [==============================] - 0s 1ms/step - loss: 3.1501 - accuracy: 0.7958 - val_loss: 3.1332 - val_accuracy: 0.7969\n",
            "Epoch 62/100\n",
            "200/200 [==============================] - 0s 1ms/step - loss: 3.1501 - accuracy: 0.7958 - val_loss: 3.1332 - val_accuracy: 0.7969\n",
            "Epoch 63/100\n",
            "200/200 [==============================] - 0s 1ms/step - loss: 3.1501 - accuracy: 0.7958 - val_loss: 3.1332 - val_accuracy: 0.7969\n",
            "Epoch 64/100\n",
            "200/200 [==============================] - 0s 1ms/step - loss: 3.1501 - accuracy: 0.7958 - val_loss: 3.1332 - val_accuracy: 0.7969\n",
            "Epoch 65/100\n",
            "200/200 [==============================] - 0s 1ms/step - loss: 3.1501 - accuracy: 0.7958 - val_loss: 3.1332 - val_accuracy: 0.7969\n",
            "Epoch 66/100\n",
            "200/200 [==============================] - 0s 1ms/step - loss: 3.1501 - accuracy: 0.7958 - val_loss: 3.1332 - val_accuracy: 0.7969\n",
            "Epoch 67/100\n",
            "200/200 [==============================] - 0s 1ms/step - loss: 3.1501 - accuracy: 0.7958 - val_loss: 3.1332 - val_accuracy: 0.7969\n",
            "Epoch 68/100\n",
            "200/200 [==============================] - 0s 1ms/step - loss: 3.1501 - accuracy: 0.7958 - val_loss: 3.1332 - val_accuracy: 0.7969\n",
            "Epoch 69/100\n",
            "200/200 [==============================] - 0s 1ms/step - loss: 3.1501 - accuracy: 0.7958 - val_loss: 3.1332 - val_accuracy: 0.7969\n",
            "Epoch 70/100\n",
            "200/200 [==============================] - 0s 1ms/step - loss: 3.1501 - accuracy: 0.7958 - val_loss: 3.1332 - val_accuracy: 0.7969\n",
            "Epoch 71/100\n",
            "200/200 [==============================] - 0s 1ms/step - loss: 3.1501 - accuracy: 0.7958 - val_loss: 3.1332 - val_accuracy: 0.7969\n",
            "Epoch 72/100\n",
            "200/200 [==============================] - 0s 1ms/step - loss: 3.1501 - accuracy: 0.7958 - val_loss: 3.1332 - val_accuracy: 0.7969\n",
            "Epoch 73/100\n",
            "200/200 [==============================] - 0s 1ms/step - loss: 3.1501 - accuracy: 0.7958 - val_loss: 3.1332 - val_accuracy: 0.7969\n",
            "Epoch 74/100\n",
            "200/200 [==============================] - 0s 1ms/step - loss: 3.1501 - accuracy: 0.7958 - val_loss: 3.1332 - val_accuracy: 0.7969\n",
            "Epoch 75/100\n",
            "200/200 [==============================] - 0s 1ms/step - loss: 3.1501 - accuracy: 0.7958 - val_loss: 3.1332 - val_accuracy: 0.7969\n",
            "Epoch 76/100\n",
            "200/200 [==============================] - 0s 1ms/step - loss: 3.1501 - accuracy: 0.7958 - val_loss: 3.1332 - val_accuracy: 0.7969\n",
            "Epoch 77/100\n",
            "200/200 [==============================] - 0s 1ms/step - loss: 3.1501 - accuracy: 0.7958 - val_loss: 3.1332 - val_accuracy: 0.7969\n",
            "Epoch 78/100\n",
            "200/200 [==============================] - 0s 1ms/step - loss: 3.1501 - accuracy: 0.7958 - val_loss: 3.1332 - val_accuracy: 0.7969\n",
            "Epoch 79/100\n",
            "200/200 [==============================] - 0s 1ms/step - loss: 3.1501 - accuracy: 0.7958 - val_loss: 3.1332 - val_accuracy: 0.7969\n",
            "Epoch 80/100\n",
            "200/200 [==============================] - 0s 1ms/step - loss: 3.1501 - accuracy: 0.7958 - val_loss: 3.1332 - val_accuracy: 0.7969\n",
            "Epoch 81/100\n",
            "200/200 [==============================] - 0s 1ms/step - loss: 3.1501 - accuracy: 0.7958 - val_loss: 3.1332 - val_accuracy: 0.7969\n",
            "Epoch 82/100\n",
            "200/200 [==============================] - 0s 1ms/step - loss: 3.1501 - accuracy: 0.7958 - val_loss: 3.1332 - val_accuracy: 0.7969\n",
            "Epoch 83/100\n",
            "200/200 [==============================] - 0s 1ms/step - loss: 3.1501 - accuracy: 0.7958 - val_loss: 3.1332 - val_accuracy: 0.7969\n",
            "Epoch 84/100\n",
            "200/200 [==============================] - 0s 1ms/step - loss: 3.1501 - accuracy: 0.7958 - val_loss: 3.1332 - val_accuracy: 0.7969\n",
            "Epoch 85/100\n",
            "200/200 [==============================] - 0s 1ms/step - loss: 3.1501 - accuracy: 0.7958 - val_loss: 3.1332 - val_accuracy: 0.7969\n",
            "Epoch 86/100\n",
            "200/200 [==============================] - 0s 1ms/step - loss: 3.1501 - accuracy: 0.7958 - val_loss: 3.1332 - val_accuracy: 0.7969\n",
            "Epoch 87/100\n",
            "200/200 [==============================] - 0s 1ms/step - loss: 3.1501 - accuracy: 0.7958 - val_loss: 3.1332 - val_accuracy: 0.7969\n",
            "Epoch 88/100\n",
            "200/200 [==============================] - 0s 1ms/step - loss: 3.1501 - accuracy: 0.7958 - val_loss: 3.1332 - val_accuracy: 0.7969\n",
            "Epoch 89/100\n",
            "200/200 [==============================] - 0s 1ms/step - loss: 3.1501 - accuracy: 0.7958 - val_loss: 3.1332 - val_accuracy: 0.7969\n",
            "Epoch 90/100\n",
            "200/200 [==============================] - 0s 1ms/step - loss: 3.1501 - accuracy: 0.7958 - val_loss: 3.1332 - val_accuracy: 0.7969\n",
            "Epoch 91/100\n",
            "200/200 [==============================] - 0s 1ms/step - loss: 3.1501 - accuracy: 0.7958 - val_loss: 3.1332 - val_accuracy: 0.7969\n",
            "Epoch 92/100\n",
            "200/200 [==============================] - 0s 1ms/step - loss: 3.1501 - accuracy: 0.7958 - val_loss: 3.1332 - val_accuracy: 0.7969\n",
            "Epoch 93/100\n",
            "200/200 [==============================] - 0s 1ms/step - loss: 3.1501 - accuracy: 0.7958 - val_loss: 3.1332 - val_accuracy: 0.7969\n",
            "Epoch 94/100\n",
            "200/200 [==============================] - 0s 1ms/step - loss: 3.1501 - accuracy: 0.7958 - val_loss: 3.1332 - val_accuracy: 0.7969\n",
            "Epoch 95/100\n",
            "200/200 [==============================] - 0s 1ms/step - loss: 3.1501 - accuracy: 0.7958 - val_loss: 3.1332 - val_accuracy: 0.7969\n",
            "Epoch 96/100\n",
            "200/200 [==============================] - 0s 1ms/step - loss: 3.1501 - accuracy: 0.7958 - val_loss: 3.1332 - val_accuracy: 0.7969\n",
            "Epoch 97/100\n",
            "200/200 [==============================] - 0s 1ms/step - loss: 3.1501 - accuracy: 0.7958 - val_loss: 3.1332 - val_accuracy: 0.7969\n",
            "Epoch 98/100\n",
            "200/200 [==============================] - 0s 1ms/step - loss: 3.1501 - accuracy: 0.7958 - val_loss: 3.1332 - val_accuracy: 0.7969\n",
            "Epoch 99/100\n",
            "200/200 [==============================] - 0s 1ms/step - loss: 3.1501 - accuracy: 0.7958 - val_loss: 3.1332 - val_accuracy: 0.7969\n",
            "Epoch 100/100\n",
            "200/200 [==============================] - 0s 1ms/step - loss: 3.1501 - accuracy: 0.7958 - val_loss: 3.1332 - val_accuracy: 0.7969\n"
          ],
          "name": "stdout"
        }
      ]
    },
    {
      "cell_type": "markdown",
      "metadata": {
        "id": "ah3epmn8lXbi"
      },
      "source": [
        "پیش بینی داده های تست روی شبکه\n"
      ]
    },
    {
      "cell_type": "code",
      "metadata": {
        "id": "0I1Dm9I-lXb2",
        "outputId": "a043ed58-a881-49a2-e4c3-4879c4759dd3",
        "colab": {
          "base_uri": "https://localhost:8080/"
        }
      },
      "source": [
        "y_pred1 = ann1.predict(X_test)\n",
        "y_pred1 = (y_pred1 > 0.5)\n",
        "print(y_pred1)"
      ],
      "execution_count": 126,
      "outputs": [
        {
          "output_type": "stream",
          "text": [
            "[[False]\n",
            " [False]\n",
            " [False]\n",
            " ...\n",
            " [False]\n",
            " [False]\n",
            " [False]]\n"
          ],
          "name": "stdout"
        }
      ]
    },
    {
      "cell_type": "markdown",
      "metadata": {
        "id": "FZnKDG3MlhwM"
      },
      "source": [
        "به دست اوردن درصد دقت"
      ]
    },
    {
      "cell_type": "code",
      "metadata": {
        "id": "lPhBMvivlhwQ",
        "outputId": "e2cf262b-9633-48c0-81b3-077ec0d9c209",
        "colab": {
          "base_uri": "https://localhost:8080/"
        }
      },
      "source": [
        "from sklearn.metrics import confusion_matrix, accuracy_score\n",
        "confusion_matrix = confusion_matrix(y_test, y_pred1)\n",
        "print(confusion_matrix)\n",
        "accuracy_score(y_test, y_pred1)"
      ],
      "execution_count": 127,
      "outputs": [
        {
          "output_type": "stream",
          "text": [
            "[[1595    0]\n",
            " [ 405    0]]\n"
          ],
          "name": "stdout"
        },
        {
          "output_type": "execute_result",
          "data": {
            "text/plain": [
              "0.7975"
            ]
          },
          "metadata": {
            "tags": []
          },
          "execution_count": 127
        }
      ]
    },
    {
      "cell_type": "markdown",
      "metadata": {
        "id": "_L2wVKPSly9e"
      },
      "source": [
        "نمودار های شبکه اول"
      ]
    },
    {
      "cell_type": "code",
      "metadata": {
        "id": "yPNKHHvClx0r",
        "outputId": "efd78e61-3a6d-404b-bb3a-353b97ab37b4",
        "colab": {
          "base_uri": "https://localhost:8080/",
          "height": 315
        }
      },
      "source": [
        "#  print(history.history.keys())  \n",
        "plt.plot(history1.history['loss'])\n",
        "plt.title('model loss')\n",
        "plt.ylabel('loss')\n",
        "plt.xlabel('epoch')\n",
        "plt.legend(['train', 'val'], loc='upper left')\n",
        "plt.show()"
      ],
      "execution_count": 128,
      "outputs": [
        {
          "output_type": "display_data",
          "data": {
            "image/png": "[encoded data removed]",
            "text/plain": [
              "<Figure size 432x288 with 1 Axes>"
            ]
          },
          "metadata": {
            "tags": []
          }
        }
      ]
    },
    {
      "cell_type": "code",
      "metadata": {
        "id": "NQ2TEd_2lx00",
        "outputId": "64b92680-1257-43d7-e728-dc6ac82676cb",
        "colab": {
          "base_uri": "https://localhost:8080/",
          "height": 315
        }
      },
      "source": [
        "plt.plot(history1.history['accuracy'])\n",
        "plt.title('model accuracy')\n",
        "plt.ylabel('accurcy')\n",
        "plt.xlabel('epoch')\n",
        "plt.legend(['train', 'val'], loc='upper left')\n",
        "plt.show()"
      ],
      "execution_count": 130,
      "outputs": [
        {
          "output_type": "display_data",
          "data": {
            "image/png": "[encoded data removed]",
            "text/plain": [
              "<Figure size 432x288 with 1 Axes>"
            ]
          },
          "metadata": {
            "tags": []
          }
        }
      ]
    },
    {
      "cell_type": "markdown",
      "metadata": {
        "id": "-zfEzkRVXIwF"
      },
      "source": [
        "ساخت شبکه عصبی دوم"
      ]
    },
    {
      "cell_type": "markdown",
      "metadata": {
        "id": "KvdeScabXtlB"
      },
      "source": [
        "مقدار دهی اولیه"
      ]
    },
    {
      "cell_type": "code",
      "metadata": {
        "id": "3dtrScHxXQox"
      },
      "source": [
        "ann2 = tf.keras.models.Sequential()"
      ],
      "execution_count": 131,
      "outputs": []
    },
    {
      "cell_type": "markdown",
      "metadata": {
        "id": "rP6urV6SX7kS"
      },
      "source": [
        "اضافه کردن لایه ورودی و اولین لایه پنهان"
      ]
    },
    {
      "cell_type": "code",
      "metadata": {
        "id": "bppGycBXYCQr"
      },
      "source": [
        "ann2.add(tf.keras.layers.Dense(units=14, activation='relu'))"
      ],
      "execution_count": 132,
      "outputs": []
    },
    {
      "cell_type": "markdown",
      "metadata": {
        "id": "BELWAc_8YJze"
      },
      "source": [
        "اضافه کردن لایه دوم پنهان"
      ]
    },
    {
      "cell_type": "code",
      "metadata": {
        "id": "JneR0u0sYRTd"
      },
      "source": [
        "ann2.add(tf.keras.layers.Dense(units=14, activation='relu'))"
      ],
      "execution_count": 133,
      "outputs": []
    },
    {
      "cell_type": "markdown",
      "metadata": {
        "id": "OyNEe6RXYcU4"
      },
      "source": [
        "اضافه کردن لایه خروجی"
      ]
    },
    {
      "cell_type": "code",
      "metadata": {
        "id": "Cn3x41RBYfvY"
      },
      "source": [
        "ann2.add(tf.keras.layers.Dense(units=1, activation='sigmoid'))"
      ],
      "execution_count": 134,
      "outputs": []
    },
    {
      "cell_type": "markdown",
      "metadata": {
        "id": "JT4u2S1_Y4WG"
      },
      "source": [
        "اموزش شبکه عصبی"
      ]
    },
    {
      "cell_type": "markdown",
      "metadata": {
        "id": "8GWlJChhY_ZI"
      },
      "source": [
        "کامپایل کردن شبکه با مقادیر دلخواه"
      ]
    },
    {
      "cell_type": "code",
      "metadata": {
        "id": "fG3RrwDXZEaS"
      },
      "source": [
        "ann2.compile(optimizer = 'adam', loss = 'binary_crossentropy', metrics = ['accuracy'])"
      ],
      "execution_count": 135,
      "outputs": []
    },
    {
      "cell_type": "markdown",
      "metadata": {
        "id": "0QR_G5u7ZLSM"
      },
      "source": [
        "آموزش شبکه روی دیتاست آموزشی"
      ]
    },
    {
      "cell_type": "code",
      "metadata": {
        "id": "nHZ-LKv_ZRb3",
        "outputId": "84c45fbd-8551-453c-8bcd-ea11a9f51772",
        "colab": {
          "base_uri": "https://localhost:8080/"
        }
      },
      "source": [
        "history2 =ann2.fit(X_train, y_train,validation_split=0.1, batch_size = 32, epochs = 100)"
      ],
      "execution_count": 136,
      "outputs": [
        {
          "output_type": "stream",
          "text": [
            "Epoch 1/100\n",
            "225/225 [==============================] - 0s 2ms/step - loss: 0.4922 - accuracy: 0.7879 - val_loss: 0.4480 - val_accuracy: 0.8175\n",
            "Epoch 2/100\n",
            "225/225 [==============================] - 0s 1ms/step - loss: 0.4320 - accuracy: 0.8131 - val_loss: 0.4181 - val_accuracy: 0.8250\n",
            "Epoch 3/100\n",
            "225/225 [==============================] - 0s 1ms/step - loss: 0.4131 - accuracy: 0.8211 - val_loss: 0.3964 - val_accuracy: 0.8350\n",
            "Epoch 4/100\n",
            "225/225 [==============================] - 0s 1ms/step - loss: 0.3931 - accuracy: 0.8336 - val_loss: 0.3770 - val_accuracy: 0.8512\n",
            "Epoch 5/100\n",
            "225/225 [==============================] - 0s 1ms/step - loss: 0.3762 - accuracy: 0.8431 - val_loss: 0.3618 - val_accuracy: 0.8537\n",
            "Epoch 6/100\n",
            "225/225 [==============================] - 0s 1ms/step - loss: 0.3636 - accuracy: 0.8508 - val_loss: 0.3523 - val_accuracy: 0.8512\n",
            "Epoch 7/100\n",
            "225/225 [==============================] - 0s 1ms/step - loss: 0.3569 - accuracy: 0.8546 - val_loss: 0.3458 - val_accuracy: 0.8587\n",
            "Epoch 8/100\n",
            "225/225 [==============================] - 0s 1ms/step - loss: 0.3527 - accuracy: 0.8558 - val_loss: 0.3428 - val_accuracy: 0.8637\n",
            "Epoch 9/100\n",
            "225/225 [==============================] - 0s 1ms/step - loss: 0.3499 - accuracy: 0.8574 - val_loss: 0.3400 - val_accuracy: 0.8650\n",
            "Epoch 10/100\n",
            "225/225 [==============================] - 0s 1ms/step - loss: 0.3481 - accuracy: 0.8572 - val_loss: 0.3363 - val_accuracy: 0.8625\n",
            "Epoch 11/100\n",
            "225/225 [==============================] - 0s 1ms/step - loss: 0.3464 - accuracy: 0.8589 - val_loss: 0.3343 - val_accuracy: 0.8662\n",
            "Epoch 12/100\n",
            "225/225 [==============================] - 0s 1ms/step - loss: 0.3447 - accuracy: 0.8586 - val_loss: 0.3335 - val_accuracy: 0.8625\n",
            "Epoch 13/100\n",
            "225/225 [==============================] - 0s 1ms/step - loss: 0.3438 - accuracy: 0.8586 - val_loss: 0.3328 - val_accuracy: 0.8662\n",
            "Epoch 14/100\n",
            "225/225 [==============================] - 0s 1ms/step - loss: 0.3431 - accuracy: 0.8574 - val_loss: 0.3341 - val_accuracy: 0.8600\n",
            "Epoch 15/100\n",
            "225/225 [==============================] - 0s 1ms/step - loss: 0.3423 - accuracy: 0.8606 - val_loss: 0.3319 - val_accuracy: 0.8625\n",
            "Epoch 16/100\n",
            "225/225 [==============================] - 0s 1ms/step - loss: 0.3409 - accuracy: 0.8590 - val_loss: 0.3318 - val_accuracy: 0.8700\n",
            "Epoch 17/100\n",
            "225/225 [==============================] - 0s 1ms/step - loss: 0.3401 - accuracy: 0.8586 - val_loss: 0.3311 - val_accuracy: 0.8625\n",
            "Epoch 18/100\n",
            "225/225 [==============================] - 0s 1ms/step - loss: 0.3396 - accuracy: 0.8608 - val_loss: 0.3303 - val_accuracy: 0.8637\n",
            "Epoch 19/100\n",
            "225/225 [==============================] - 0s 1ms/step - loss: 0.3388 - accuracy: 0.8612 - val_loss: 0.3286 - val_accuracy: 0.8650\n",
            "Epoch 20/100\n",
            "225/225 [==============================] - 0s 1ms/step - loss: 0.3380 - accuracy: 0.8615 - val_loss: 0.3282 - val_accuracy: 0.8700\n",
            "Epoch 21/100\n",
            "225/225 [==============================] - 0s 1ms/step - loss: 0.3377 - accuracy: 0.8612 - val_loss: 0.3268 - val_accuracy: 0.8662\n",
            "Epoch 22/100\n",
            "225/225 [==============================] - 0s 1ms/step - loss: 0.3370 - accuracy: 0.8626 - val_loss: 0.3292 - val_accuracy: 0.8625\n",
            "Epoch 23/100\n",
            "225/225 [==============================] - 0s 1ms/step - loss: 0.3371 - accuracy: 0.8615 - val_loss: 0.3261 - val_accuracy: 0.8700\n",
            "Epoch 24/100\n",
            "225/225 [==============================] - 0s 1ms/step - loss: 0.3358 - accuracy: 0.8625 - val_loss: 0.3269 - val_accuracy: 0.8675\n",
            "Epoch 25/100\n",
            "225/225 [==============================] - 0s 1ms/step - loss: 0.3358 - accuracy: 0.8610 - val_loss: 0.3237 - val_accuracy: 0.8725\n",
            "Epoch 26/100\n",
            "225/225 [==============================] - 0s 1ms/step - loss: 0.3348 - accuracy: 0.8625 - val_loss: 0.3276 - val_accuracy: 0.8650\n",
            "Epoch 27/100\n",
            "225/225 [==============================] - 0s 1ms/step - loss: 0.3355 - accuracy: 0.8608 - val_loss: 0.3248 - val_accuracy: 0.8687\n",
            "Epoch 28/100\n",
            "225/225 [==============================] - 0s 1ms/step - loss: 0.3343 - accuracy: 0.8633 - val_loss: 0.3241 - val_accuracy: 0.8750\n",
            "Epoch 29/100\n",
            "225/225 [==============================] - 0s 1ms/step - loss: 0.3336 - accuracy: 0.8621 - val_loss: 0.3240 - val_accuracy: 0.8687\n",
            "Epoch 30/100\n",
            "225/225 [==============================] - 0s 1ms/step - loss: 0.3332 - accuracy: 0.8629 - val_loss: 0.3242 - val_accuracy: 0.8712\n",
            "Epoch 31/100\n",
            "225/225 [==============================] - 0s 1ms/step - loss: 0.3331 - accuracy: 0.8637 - val_loss: 0.3236 - val_accuracy: 0.8725\n",
            "Epoch 32/100\n",
            "225/225 [==============================] - 0s 1ms/step - loss: 0.3325 - accuracy: 0.8631 - val_loss: 0.3254 - val_accuracy: 0.8662\n",
            "Epoch 33/100\n",
            "225/225 [==============================] - 0s 1ms/step - loss: 0.3323 - accuracy: 0.8639 - val_loss: 0.3260 - val_accuracy: 0.8650\n",
            "Epoch 34/100\n",
            "225/225 [==============================] - 0s 1ms/step - loss: 0.3320 - accuracy: 0.8637 - val_loss: 0.3229 - val_accuracy: 0.8687\n",
            "Epoch 35/100\n",
            "225/225 [==============================] - 0s 1ms/step - loss: 0.3311 - accuracy: 0.8639 - val_loss: 0.3226 - val_accuracy: 0.8687\n",
            "Epoch 36/100\n",
            "225/225 [==============================] - 0s 1ms/step - loss: 0.3309 - accuracy: 0.8635 - val_loss: 0.3232 - val_accuracy: 0.8662\n",
            "Epoch 37/100\n",
            "225/225 [==============================] - 0s 1ms/step - loss: 0.3300 - accuracy: 0.8624 - val_loss: 0.3236 - val_accuracy: 0.8687\n",
            "Epoch 38/100\n",
            "225/225 [==============================] - 0s 1ms/step - loss: 0.3300 - accuracy: 0.8640 - val_loss: 0.3223 - val_accuracy: 0.8687\n",
            "Epoch 39/100\n",
            "225/225 [==============================] - 0s 1ms/step - loss: 0.3298 - accuracy: 0.8637 - val_loss: 0.3225 - val_accuracy: 0.8675\n",
            "Epoch 40/100\n",
            "225/225 [==============================] - 0s 1ms/step - loss: 0.3294 - accuracy: 0.8635 - val_loss: 0.3216 - val_accuracy: 0.8700\n",
            "Epoch 41/100\n",
            "225/225 [==============================] - 0s 1ms/step - loss: 0.3289 - accuracy: 0.8662 - val_loss: 0.3199 - val_accuracy: 0.8687\n",
            "Epoch 42/100\n",
            "225/225 [==============================] - 0s 1ms/step - loss: 0.3282 - accuracy: 0.8643 - val_loss: 0.3203 - val_accuracy: 0.8662\n",
            "Epoch 43/100\n",
            "225/225 [==============================] - 0s 1ms/step - loss: 0.3280 - accuracy: 0.8643 - val_loss: 0.3208 - val_accuracy: 0.8675\n",
            "Epoch 44/100\n",
            "225/225 [==============================] - 0s 1ms/step - loss: 0.3279 - accuracy: 0.8644 - val_loss: 0.3195 - val_accuracy: 0.8687\n",
            "Epoch 45/100\n",
            "225/225 [==============================] - 0s 1ms/step - loss: 0.3271 - accuracy: 0.8639 - val_loss: 0.3211 - val_accuracy: 0.8675\n",
            "Epoch 46/100\n",
            "225/225 [==============================] - 0s 1ms/step - loss: 0.3273 - accuracy: 0.8642 - val_loss: 0.3177 - val_accuracy: 0.8675\n",
            "Epoch 47/100\n",
            "225/225 [==============================] - 0s 1ms/step - loss: 0.3268 - accuracy: 0.8639 - val_loss: 0.3201 - val_accuracy: 0.8687\n",
            "Epoch 48/100\n",
            "225/225 [==============================] - 0s 1ms/step - loss: 0.3268 - accuracy: 0.8631 - val_loss: 0.3202 - val_accuracy: 0.8687\n",
            "Epoch 49/100\n",
            "225/225 [==============================] - 0s 1ms/step - loss: 0.3261 - accuracy: 0.8643 - val_loss: 0.3218 - val_accuracy: 0.8750\n",
            "Epoch 50/100\n",
            "225/225 [==============================] - 0s 1ms/step - loss: 0.3255 - accuracy: 0.8637 - val_loss: 0.3193 - val_accuracy: 0.8788\n",
            "Epoch 51/100\n",
            "225/225 [==============================] - 0s 1ms/step - loss: 0.3256 - accuracy: 0.8633 - val_loss: 0.3200 - val_accuracy: 0.8700\n",
            "Epoch 52/100\n",
            "225/225 [==============================] - 0s 1ms/step - loss: 0.3255 - accuracy: 0.8633 - val_loss: 0.3215 - val_accuracy: 0.8700\n",
            "Epoch 53/100\n",
            "225/225 [==============================] - 0s 1ms/step - loss: 0.3243 - accuracy: 0.8643 - val_loss: 0.3254 - val_accuracy: 0.8700\n",
            "Epoch 54/100\n",
            "225/225 [==============================] - 0s 1ms/step - loss: 0.3247 - accuracy: 0.8643 - val_loss: 0.3206 - val_accuracy: 0.8687\n",
            "Epoch 55/100\n",
            "225/225 [==============================] - 0s 1ms/step - loss: 0.3246 - accuracy: 0.8640 - val_loss: 0.3189 - val_accuracy: 0.8700\n",
            "Epoch 56/100\n",
            "225/225 [==============================] - 0s 1ms/step - loss: 0.3239 - accuracy: 0.8654 - val_loss: 0.3188 - val_accuracy: 0.8700\n",
            "Epoch 57/100\n",
            "225/225 [==============================] - 0s 1ms/step - loss: 0.3245 - accuracy: 0.8653 - val_loss: 0.3200 - val_accuracy: 0.8662\n",
            "Epoch 58/100\n",
            "225/225 [==============================] - 0s 1ms/step - loss: 0.3233 - accuracy: 0.8653 - val_loss: 0.3191 - val_accuracy: 0.8687\n",
            "Epoch 59/100\n",
            "225/225 [==============================] - 0s 1ms/step - loss: 0.3234 - accuracy: 0.8643 - val_loss: 0.3188 - val_accuracy: 0.8763\n",
            "Epoch 60/100\n",
            "225/225 [==============================] - 0s 1ms/step - loss: 0.3228 - accuracy: 0.8654 - val_loss: 0.3189 - val_accuracy: 0.8725\n",
            "Epoch 61/100\n",
            "225/225 [==============================] - 0s 1ms/step - loss: 0.3232 - accuracy: 0.8649 - val_loss: 0.3197 - val_accuracy: 0.8675\n",
            "Epoch 62/100\n",
            "225/225 [==============================] - 0s 1ms/step - loss: 0.3225 - accuracy: 0.8658 - val_loss: 0.3193 - val_accuracy: 0.8725\n",
            "Epoch 63/100\n",
            "225/225 [==============================] - 0s 1ms/step - loss: 0.3223 - accuracy: 0.8650 - val_loss: 0.3218 - val_accuracy: 0.8662\n",
            "Epoch 64/100\n",
            "225/225 [==============================] - 0s 1ms/step - loss: 0.3213 - accuracy: 0.8664 - val_loss: 0.3209 - val_accuracy: 0.8712\n",
            "Epoch 65/100\n",
            "225/225 [==============================] - 0s 1ms/step - loss: 0.3216 - accuracy: 0.8654 - val_loss: 0.3208 - val_accuracy: 0.8687\n",
            "Epoch 66/100\n",
            "225/225 [==============================] - 0s 1ms/step - loss: 0.3212 - accuracy: 0.8671 - val_loss: 0.3203 - val_accuracy: 0.8700\n",
            "Epoch 67/100\n",
            "225/225 [==============================] - 0s 1ms/step - loss: 0.3209 - accuracy: 0.8681 - val_loss: 0.3203 - val_accuracy: 0.8712\n",
            "Epoch 68/100\n",
            "225/225 [==============================] - 0s 1ms/step - loss: 0.3214 - accuracy: 0.8667 - val_loss: 0.3185 - val_accuracy: 0.8737\n",
            "Epoch 69/100\n",
            "225/225 [==============================] - 0s 1ms/step - loss: 0.3202 - accuracy: 0.8650 - val_loss: 0.3200 - val_accuracy: 0.8737\n",
            "Epoch 70/100\n",
            "225/225 [==============================] - 0s 1ms/step - loss: 0.3203 - accuracy: 0.8662 - val_loss: 0.3207 - val_accuracy: 0.8725\n",
            "Epoch 71/100\n",
            "225/225 [==============================] - 0s 1ms/step - loss: 0.3198 - accuracy: 0.8681 - val_loss: 0.3211 - val_accuracy: 0.8775\n",
            "Epoch 72/100\n",
            "225/225 [==============================] - 0s 1ms/step - loss: 0.3200 - accuracy: 0.8669 - val_loss: 0.3191 - val_accuracy: 0.8725\n",
            "Epoch 73/100\n",
            "225/225 [==============================] - 0s 1ms/step - loss: 0.3194 - accuracy: 0.8668 - val_loss: 0.3184 - val_accuracy: 0.8850\n",
            "Epoch 74/100\n",
            "225/225 [==============================] - 0s 1ms/step - loss: 0.3191 - accuracy: 0.8679 - val_loss: 0.3224 - val_accuracy: 0.8712\n",
            "Epoch 75/100\n",
            "225/225 [==============================] - 0s 1ms/step - loss: 0.3189 - accuracy: 0.8660 - val_loss: 0.3190 - val_accuracy: 0.8737\n",
            "Epoch 76/100\n",
            "225/225 [==============================] - 0s 1ms/step - loss: 0.3179 - accuracy: 0.8669 - val_loss: 0.3201 - val_accuracy: 0.8712\n",
            "Epoch 77/100\n",
            "225/225 [==============================] - 0s 1ms/step - loss: 0.3181 - accuracy: 0.8662 - val_loss: 0.3192 - val_accuracy: 0.8737\n",
            "Epoch 78/100\n",
            "225/225 [==============================] - 0s 1ms/step - loss: 0.3182 - accuracy: 0.8675 - val_loss: 0.3215 - val_accuracy: 0.8737\n",
            "Epoch 79/100\n",
            "225/225 [==============================] - 0s 1ms/step - loss: 0.3181 - accuracy: 0.8669 - val_loss: 0.3219 - val_accuracy: 0.8737\n",
            "Epoch 80/100\n",
            "225/225 [==============================] - 0s 1ms/step - loss: 0.3180 - accuracy: 0.8660 - val_loss: 0.3211 - val_accuracy: 0.8763\n",
            "Epoch 81/100\n",
            "225/225 [==============================] - 0s 1ms/step - loss: 0.3175 - accuracy: 0.8672 - val_loss: 0.3216 - val_accuracy: 0.8700\n",
            "Epoch 82/100\n",
            "225/225 [==============================] - 0s 1ms/step - loss: 0.3171 - accuracy: 0.8686 - val_loss: 0.3209 - val_accuracy: 0.8775\n",
            "Epoch 83/100\n",
            "225/225 [==============================] - 0s 1ms/step - loss: 0.3166 - accuracy: 0.8679 - val_loss: 0.3226 - val_accuracy: 0.8725\n",
            "Epoch 84/100\n",
            "225/225 [==============================] - 0s 1ms/step - loss: 0.3168 - accuracy: 0.8676 - val_loss: 0.3229 - val_accuracy: 0.8675\n",
            "Epoch 85/100\n",
            "225/225 [==============================] - 0s 1ms/step - loss: 0.3166 - accuracy: 0.8665 - val_loss: 0.3242 - val_accuracy: 0.8725\n",
            "Epoch 86/100\n",
            "225/225 [==============================] - 0s 1ms/step - loss: 0.3166 - accuracy: 0.8692 - val_loss: 0.3209 - val_accuracy: 0.8662\n",
            "Epoch 87/100\n",
            "225/225 [==============================] - 0s 1ms/step - loss: 0.3161 - accuracy: 0.8687 - val_loss: 0.3234 - val_accuracy: 0.8675\n",
            "Epoch 88/100\n",
            "225/225 [==============================] - 0s 1ms/step - loss: 0.3162 - accuracy: 0.8683 - val_loss: 0.3196 - val_accuracy: 0.8800\n",
            "Epoch 89/100\n",
            "225/225 [==============================] - 0s 1ms/step - loss: 0.3159 - accuracy: 0.8679 - val_loss: 0.3224 - val_accuracy: 0.8750\n",
            "Epoch 90/100\n",
            "225/225 [==============================] - 0s 1ms/step - loss: 0.3155 - accuracy: 0.8686 - val_loss: 0.3226 - val_accuracy: 0.8687\n",
            "Epoch 91/100\n",
            "225/225 [==============================] - 0s 1ms/step - loss: 0.3151 - accuracy: 0.8679 - val_loss: 0.3237 - val_accuracy: 0.8675\n",
            "Epoch 92/100\n",
            "225/225 [==============================] - 0s 1ms/step - loss: 0.3151 - accuracy: 0.8667 - val_loss: 0.3238 - val_accuracy: 0.8650\n",
            "Epoch 93/100\n",
            "225/225 [==============================] - 0s 1ms/step - loss: 0.3153 - accuracy: 0.8675 - val_loss: 0.3216 - val_accuracy: 0.8662\n",
            "Epoch 94/100\n",
            "225/225 [==============================] - 0s 1ms/step - loss: 0.3146 - accuracy: 0.8678 - val_loss: 0.3241 - val_accuracy: 0.8737\n",
            "Epoch 95/100\n",
            "225/225 [==============================] - 0s 1ms/step - loss: 0.3152 - accuracy: 0.8689 - val_loss: 0.3230 - val_accuracy: 0.8737\n",
            "Epoch 96/100\n",
            "225/225 [==============================] - 0s 1ms/step - loss: 0.3148 - accuracy: 0.8683 - val_loss: 0.3213 - val_accuracy: 0.8700\n",
            "Epoch 97/100\n",
            "225/225 [==============================] - 0s 1ms/step - loss: 0.3142 - accuracy: 0.8676 - val_loss: 0.3235 - val_accuracy: 0.8712\n",
            "Epoch 98/100\n",
            "225/225 [==============================] - 0s 1ms/step - loss: 0.3143 - accuracy: 0.8647 - val_loss: 0.3206 - val_accuracy: 0.8725\n",
            "Epoch 99/100\n",
            "225/225 [==============================] - 0s 1ms/step - loss: 0.3141 - accuracy: 0.8701 - val_loss: 0.3235 - val_accuracy: 0.8687\n",
            "Epoch 100/100\n",
            "225/225 [==============================] - 0s 1ms/step - loss: 0.3135 - accuracy: 0.8678 - val_loss: 0.3229 - val_accuracy: 0.8700\n"
          ],
          "name": "stdout"
        }
      ]
    },
    {
      "cell_type": "markdown",
      "metadata": {
        "id": "u7yx47jPZt11"
      },
      "source": [
        "پیش بینی داده های تست روی شبکه\n"
      ]
    },
    {
      "cell_type": "code",
      "metadata": {
        "id": "nIyEeQdRZwgs",
        "outputId": "8fd8e8f8-af7f-475c-ae24-b2213bd4302a",
        "colab": {
          "base_uri": "https://localhost:8080/"
        }
      },
      "source": [
        "y_pred2 = ann2.predict(X_test)\n",
        "\n",
        "y_pred2 = (y_pred2 > 0.5)\n",
        "\n",
        "print(y_pred2)"
      ],
      "execution_count": 137,
      "outputs": [
        {
          "output_type": "stream",
          "text": [
            "[[False]\n",
            " [False]\n",
            " [False]\n",
            " ...\n",
            " [False]\n",
            " [False]\n",
            " [False]]\n"
          ],
          "name": "stdout"
        }
      ]
    },
    {
      "cell_type": "markdown",
      "metadata": {
        "id": "o0oyfLWoaEGw"
      },
      "source": [
        "به دست اوردن درصد دقت \n",
        "```\n",
        "\n"
      ]
    },
    {
      "cell_type": "code",
      "metadata": {
        "id": "ci6K_r6LaF6P",
        "outputId": "5e9a763f-d232-4c26-de62-02899d382a39",
        "colab": {
          "base_uri": "https://localhost:8080/"
        }
      },
      "source": [
        "from sklearn.metrics import confusion_matrix, accuracy_score\n",
        "confusion_matrix = confusion_matrix(y_test, y_pred2)\n",
        "print(confusion_matrix)\n",
        "accuracy_score(y_test, y_pred2)"
      ],
      "execution_count": 138,
      "outputs": [
        {
          "output_type": "stream",
          "text": [
            "[[1504   91]\n",
            " [ 194  211]]\n"
          ],
          "name": "stdout"
        },
        {
          "output_type": "execute_result",
          "data": {
            "text/plain": [
              "0.8575"
            ]
          },
          "metadata": {
            "tags": []
          },
          "execution_count": 138
        }
      ]
    },
    {
      "cell_type": "code",
      "metadata": {
        "id": "lod9bb_mPdRw",
        "outputId": "d209e539-bf89-475c-c307-a9dea37d2d94",
        "colab": {
          "base_uri": "https://localhost:8080/",
          "height": 332
        }
      },
      "source": [
        " print(history2.history.keys())  \n",
        "plt.plot(history2.history['loss'])\n",
        "plt.title('model loss')\n",
        "plt.ylabel('loss')\n",
        "plt.xlabel('epoch')\n",
        "plt.legend(['train', 'val'], loc='upper left')\n",
        "plt.show()"
      ],
      "execution_count": 139,
      "outputs": [
        {
          "output_type": "stream",
          "text": [
            "dict_keys(['loss', 'accuracy', 'val_loss', 'val_accuracy'])\n"
          ],
          "name": "stdout"
        },
        {
          "output_type": "display_data",
          "data": {
            "image/png": "[encoded data removed]",
            "text/plain": [
              "<Figure size 432x288 with 1 Axes>"
            ]
          },
          "metadata": {
            "tags": []
          }
        }
      ]
    },
    {
      "cell_type": "code",
      "metadata": {
        "id": "J2H3DCI-bbea",
        "outputId": "d5cc8875-c8a9-42f5-fefe-4b962a397c19",
        "colab": {
          "base_uri": "https://localhost:8080/",
          "height": 315
        }
      },
      "source": [
        "plt.plot(history2.history['accuracy'])\n",
        "plt.title('model accuracy')\n",
        "plt.ylabel('accuracy')\n",
        "plt.xlabel('epoch')\n",
        "plt.legend(['train', 'val'], loc='upper left')\n",
        "plt.show()"
      ],
      "execution_count": 140,
      "outputs": [
        {
          "output_type": "display_data",
          "data": {
            "image/png": "[encoded data removed]",
            "text/plain": [
              "<Figure size 432x288 with 1 Axes>"
            ]
          },
          "metadata": {
            "tags": []
          }
        }
      ]
    },
    {
      "cell_type": "code",
      "metadata": {
        "id": "JGjktZvcGd68"
      },
      "source": [
        ""
      ],
      "execution_count": null,
      "outputs": []
    },
    {
      "cell_type": "markdown",
      "metadata": {
        "id": "pPKqpUwyGleu"
      },
      "source": [
        "ساخت شبکه عصبی سوم با دراپ اوت"
      ]
    },
    {
      "cell_type": "markdown",
      "metadata": {
        "id": "O2PAAGAIGlex"
      },
      "source": [
        "مقدار دهی اولیه"
      ]
    },
    {
      "cell_type": "code",
      "metadata": {
        "id": "NyL4FxZ_Glez"
      },
      "source": [
        "ann3 = tf.keras.models.Sequential()"
      ],
      "execution_count": 141,
      "outputs": []
    },
    {
      "cell_type": "markdown",
      "metadata": {
        "id": "CgYCF1ygGle-"
      },
      "source": [
        "اضافه کردن لایه ورودی و اولین لایه پنهان"
      ]
    },
    {
      "cell_type": "code",
      "metadata": {
        "id": "9C6eRRjsGlfA"
      },
      "source": [
        "ann3.add(tf.keras.layers.Dense(units=6, activation='relu'))\n",
        "ann3.add(tf.keras.layers.Dropout(0.1))\n",
        "ann3.add(tf.keras.layers.Dense(units=6, activation='relu'))"
      ],
      "execution_count": 142,
      "outputs": []
    },
    {
      "cell_type": "markdown",
      "metadata": {
        "id": "YqOHHjc3GlfH"
      },
      "source": [
        "اضافه کردن لایه دوم پنهان"
      ]
    },
    {
      "cell_type": "code",
      "metadata": {
        "id": "_Zl62xTlGlfJ"
      },
      "source": [
        "ann3.add(tf.keras.layers.Dense(units=6, activation='relu'))"
      ],
      "execution_count": 143,
      "outputs": []
    },
    {
      "cell_type": "code",
      "metadata": {
        "id": "2vNjHNQlNHep"
      },
      "source": [
        "ann3.add(tf.keras.layers.Dropout(0.1))"
      ],
      "execution_count": 144,
      "outputs": []
    },
    {
      "cell_type": "markdown",
      "metadata": {
        "id": "yzRIt7TUGlfP"
      },
      "source": [
        "اضافه کردن لایه خروجی"
      ]
    },
    {
      "cell_type": "code",
      "metadata": {
        "id": "gfB-kwTRGlfR"
      },
      "source": [
        "ann3.add(tf.keras.layers.Dense(units=1, activation='sigmoid'))"
      ],
      "execution_count": 145,
      "outputs": []
    },
    {
      "cell_type": "markdown",
      "metadata": {
        "id": "mdUq3O5iGlfX"
      },
      "source": [
        "اموزش شبکه عصبی"
      ]
    },
    {
      "cell_type": "markdown",
      "metadata": {
        "id": "IQEYBlnoGlfY"
      },
      "source": [
        "کامپایل کردن شبکه با مقادیر دلخواه"
      ]
    },
    {
      "cell_type": "code",
      "metadata": {
        "id": "pwGdM-SAGlfZ"
      },
      "source": [
        "ann3.compile(optimizer = 'adam', loss = 'binary_crossentropy', metrics = ['accuracy'])"
      ],
      "execution_count": 146,
      "outputs": []
    },
    {
      "cell_type": "markdown",
      "metadata": {
        "id": "6Rd1oQf3Glfg"
      },
      "source": [
        "آموزش شبکه روی دیتاست آموزشی"
      ]
    },
    {
      "cell_type": "code",
      "metadata": {
        "id": "QgkCJvopGlfh",
        "outputId": "b5831283-c7f9-4a19-8629-46e544a3bd2d",
        "colab": {
          "base_uri": "https://localhost:8080/"
        }
      },
      "source": [
        "history3 =ann3.fit(X_train, y_train, batch_size = 32, epochs = 120)"
      ],
      "execution_count": 147,
      "outputs": [
        {
          "output_type": "stream",
          "text": [
            "Epoch 1/120\n",
            "250/250 [==============================] - 0s 994us/step - loss: 0.5739 - accuracy: 0.7513\n",
            "Epoch 2/120\n",
            "250/250 [==============================] - 0s 970us/step - loss: 0.4869 - accuracy: 0.7956\n",
            "Epoch 3/120\n",
            "250/250 [==============================] - 0s 986us/step - loss: 0.4537 - accuracy: 0.8041\n",
            "Epoch 4/120\n",
            "250/250 [==============================] - 0s 949us/step - loss: 0.4348 - accuracy: 0.8104\n",
            "Epoch 5/120\n",
            "250/250 [==============================] - 0s 1ms/step - loss: 0.4275 - accuracy: 0.8129\n",
            "Epoch 6/120\n",
            "250/250 [==============================] - 0s 953us/step - loss: 0.4237 - accuracy: 0.8133\n",
            "Epoch 7/120\n",
            "250/250 [==============================] - 0s 950us/step - loss: 0.4185 - accuracy: 0.8174\n",
            "Epoch 8/120\n",
            "250/250 [==============================] - 0s 935us/step - loss: 0.4181 - accuracy: 0.8148\n",
            "Epoch 9/120\n",
            "250/250 [==============================] - 0s 940us/step - loss: 0.4148 - accuracy: 0.8177\n",
            "Epoch 10/120\n",
            "250/250 [==============================] - 0s 943us/step - loss: 0.4146 - accuracy: 0.8183\n",
            "Epoch 11/120\n",
            "250/250 [==============================] - 0s 982us/step - loss: 0.4073 - accuracy: 0.8196\n",
            "Epoch 12/120\n",
            "250/250 [==============================] - 0s 996us/step - loss: 0.4050 - accuracy: 0.8179\n",
            "Epoch 13/120\n",
            "250/250 [==============================] - 0s 1ms/step - loss: 0.4085 - accuracy: 0.8180\n",
            "Epoch 14/120\n",
            "250/250 [==============================] - 0s 1ms/step - loss: 0.4009 - accuracy: 0.8205\n",
            "Epoch 15/120\n",
            "250/250 [==============================] - 0s 1ms/step - loss: 0.4025 - accuracy: 0.8223\n",
            "Epoch 16/120\n",
            "250/250 [==============================] - 0s 958us/step - loss: 0.4025 - accuracy: 0.8198\n",
            "Epoch 17/120\n",
            "250/250 [==============================] - 0s 997us/step - loss: 0.4011 - accuracy: 0.8213\n",
            "Epoch 18/120\n",
            "250/250 [==============================] - 0s 971us/step - loss: 0.4000 - accuracy: 0.8244\n",
            "Epoch 19/120\n",
            "250/250 [==============================] - 0s 980us/step - loss: 0.3991 - accuracy: 0.8216\n",
            "Epoch 20/120\n",
            "250/250 [==============================] - 0s 1ms/step - loss: 0.3980 - accuracy: 0.8196\n",
            "Epoch 21/120\n",
            "250/250 [==============================] - 0s 982us/step - loss: 0.3927 - accuracy: 0.8253\n",
            "Epoch 22/120\n",
            "250/250 [==============================] - 0s 1ms/step - loss: 0.3934 - accuracy: 0.8230\n",
            "Epoch 23/120\n",
            "250/250 [==============================] - 0s 1ms/step - loss: 0.3934 - accuracy: 0.8234\n",
            "Epoch 24/120\n",
            "250/250 [==============================] - 0s 953us/step - loss: 0.3953 - accuracy: 0.8253\n",
            "Epoch 25/120\n",
            "250/250 [==============================] - 0s 1ms/step - loss: 0.3952 - accuracy: 0.8235\n",
            "Epoch 26/120\n",
            "250/250 [==============================] - 0s 980us/step - loss: 0.3918 - accuracy: 0.8239\n",
            "Epoch 27/120\n",
            "250/250 [==============================] - 0s 953us/step - loss: 0.3915 - accuracy: 0.8229\n",
            "Epoch 28/120\n",
            "250/250 [==============================] - 0s 1ms/step - loss: 0.3923 - accuracy: 0.8239\n",
            "Epoch 29/120\n",
            "250/250 [==============================] - 0s 970us/step - loss: 0.3969 - accuracy: 0.8231\n",
            "Epoch 30/120\n",
            "250/250 [==============================] - 0s 943us/step - loss: 0.3871 - accuracy: 0.8246\n",
            "Epoch 31/120\n",
            "250/250 [==============================] - 0s 998us/step - loss: 0.3891 - accuracy: 0.8265\n",
            "Epoch 32/120\n",
            "250/250 [==============================] - 0s 961us/step - loss: 0.3920 - accuracy: 0.8265\n",
            "Epoch 33/120\n",
            "250/250 [==============================] - 0s 1ms/step - loss: 0.3919 - accuracy: 0.8266\n",
            "Epoch 34/120\n",
            "250/250 [==============================] - 0s 947us/step - loss: 0.3879 - accuracy: 0.8248\n",
            "Epoch 35/120\n",
            "250/250 [==============================] - 0s 1ms/step - loss: 0.3891 - accuracy: 0.8234\n",
            "Epoch 36/120\n",
            "250/250 [==============================] - 0s 1ms/step - loss: 0.3850 - accuracy: 0.8294\n",
            "Epoch 37/120\n",
            "250/250 [==============================] - 0s 967us/step - loss: 0.3887 - accuracy: 0.8241\n",
            "Epoch 38/120\n",
            "250/250 [==============================] - 0s 988us/step - loss: 0.3894 - accuracy: 0.8251\n",
            "Epoch 39/120\n",
            "250/250 [==============================] - 0s 984us/step - loss: 0.3858 - accuracy: 0.8231\n",
            "Epoch 40/120\n",
            "250/250 [==============================] - 0s 974us/step - loss: 0.3908 - accuracy: 0.8246\n",
            "Epoch 41/120\n",
            "250/250 [==============================] - 0s 974us/step - loss: 0.3846 - accuracy: 0.8253\n",
            "Epoch 42/120\n",
            "250/250 [==============================] - 0s 988us/step - loss: 0.3820 - accuracy: 0.8301\n",
            "Epoch 43/120\n",
            "250/250 [==============================] - 0s 1ms/step - loss: 0.3880 - accuracy: 0.8250\n",
            "Epoch 44/120\n",
            "250/250 [==============================] - 0s 1ms/step - loss: 0.3841 - accuracy: 0.8266\n",
            "Epoch 45/120\n",
            "250/250 [==============================] - 0s 981us/step - loss: 0.3867 - accuracy: 0.8239\n",
            "Epoch 46/120\n",
            "250/250 [==============================] - 0s 976us/step - loss: 0.3860 - accuracy: 0.8254\n",
            "Epoch 47/120\n",
            "250/250 [==============================] - 0s 958us/step - loss: 0.3846 - accuracy: 0.8263\n",
            "Epoch 48/120\n",
            "250/250 [==============================] - 0s 968us/step - loss: 0.3815 - accuracy: 0.8251\n",
            "Epoch 49/120\n",
            "250/250 [==============================] - 0s 972us/step - loss: 0.3846 - accuracy: 0.8244\n",
            "Epoch 50/120\n",
            "250/250 [==============================] - 0s 1ms/step - loss: 0.3813 - accuracy: 0.8266\n",
            "Epoch 51/120\n",
            "250/250 [==============================] - 0s 999us/step - loss: 0.3812 - accuracy: 0.8276\n",
            "Epoch 52/120\n",
            "250/250 [==============================] - 0s 1ms/step - loss: 0.3817 - accuracy: 0.8234\n",
            "Epoch 53/120\n",
            "250/250 [==============================] - 0s 974us/step - loss: 0.3798 - accuracy: 0.8279\n",
            "Epoch 54/120\n",
            "250/250 [==============================] - 0s 1ms/step - loss: 0.3781 - accuracy: 0.8282\n",
            "Epoch 55/120\n",
            "250/250 [==============================] - 0s 1ms/step - loss: 0.3819 - accuracy: 0.8279\n",
            "Epoch 56/120\n",
            "250/250 [==============================] - 0s 976us/step - loss: 0.3789 - accuracy: 0.8271\n",
            "Epoch 57/120\n",
            "250/250 [==============================] - 0s 1ms/step - loss: 0.3825 - accuracy: 0.8264\n",
            "Epoch 58/120\n",
            "250/250 [==============================] - 0s 1ms/step - loss: 0.3793 - accuracy: 0.8274\n",
            "Epoch 59/120\n",
            "250/250 [==============================] - 0s 994us/step - loss: 0.3826 - accuracy: 0.8257\n",
            "Epoch 60/120\n",
            "250/250 [==============================] - 0s 1ms/step - loss: 0.3770 - accuracy: 0.8250\n",
            "Epoch 61/120\n",
            "250/250 [==============================] - 0s 963us/step - loss: 0.3771 - accuracy: 0.8260\n",
            "Epoch 62/120\n",
            "250/250 [==============================] - 0s 988us/step - loss: 0.3806 - accuracy: 0.8253\n",
            "Epoch 63/120\n",
            "250/250 [==============================] - 0s 952us/step - loss: 0.3793 - accuracy: 0.8273\n",
            "Epoch 64/120\n",
            "250/250 [==============================] - 0s 991us/step - loss: 0.3761 - accuracy: 0.8292\n",
            "Epoch 65/120\n",
            "250/250 [==============================] - 0s 1ms/step - loss: 0.3776 - accuracy: 0.8282\n",
            "Epoch 66/120\n",
            "250/250 [==============================] - 0s 970us/step - loss: 0.3740 - accuracy: 0.8301\n",
            "Epoch 67/120\n",
            "250/250 [==============================] - 0s 960us/step - loss: 0.3757 - accuracy: 0.8276\n",
            "Epoch 68/120\n",
            "250/250 [==============================] - 0s 984us/step - loss: 0.3734 - accuracy: 0.8298\n",
            "Epoch 69/120\n",
            "250/250 [==============================] - 0s 1ms/step - loss: 0.3771 - accuracy: 0.8267\n",
            "Epoch 70/120\n",
            "250/250 [==============================] - 0s 980us/step - loss: 0.3768 - accuracy: 0.8289\n",
            "Epoch 71/120\n",
            "250/250 [==============================] - 0s 972us/step - loss: 0.3770 - accuracy: 0.8300\n",
            "Epoch 72/120\n",
            "250/250 [==============================] - 0s 975us/step - loss: 0.3774 - accuracy: 0.8263\n",
            "Epoch 73/120\n",
            "250/250 [==============================] - 0s 1ms/step - loss: 0.3765 - accuracy: 0.8266\n",
            "Epoch 74/120\n",
            "250/250 [==============================] - 0s 1ms/step - loss: 0.3740 - accuracy: 0.8299\n",
            "Epoch 75/120\n",
            "250/250 [==============================] - 0s 968us/step - loss: 0.3735 - accuracy: 0.8278\n",
            "Epoch 76/120\n",
            "250/250 [==============================] - 0s 1ms/step - loss: 0.3737 - accuracy: 0.8274\n",
            "Epoch 77/120\n",
            "250/250 [==============================] - 0s 1ms/step - loss: 0.3743 - accuracy: 0.8261\n",
            "Epoch 78/120\n",
            "250/250 [==============================] - 0s 1ms/step - loss: 0.3743 - accuracy: 0.8289\n",
            "Epoch 79/120\n",
            "250/250 [==============================] - 0s 977us/step - loss: 0.3762 - accuracy: 0.8267\n",
            "Epoch 80/120\n",
            "250/250 [==============================] - 0s 1ms/step - loss: 0.3731 - accuracy: 0.8292\n",
            "Epoch 81/120\n",
            "250/250 [==============================] - 0s 1ms/step - loss: 0.3734 - accuracy: 0.8315\n",
            "Epoch 82/120\n",
            "250/250 [==============================] - 0s 990us/step - loss: 0.3728 - accuracy: 0.8296\n",
            "Epoch 83/120\n",
            "250/250 [==============================] - 0s 1ms/step - loss: 0.3702 - accuracy: 0.8281\n",
            "Epoch 84/120\n",
            "250/250 [==============================] - 0s 988us/step - loss: 0.3756 - accuracy: 0.8313\n",
            "Epoch 85/120\n",
            "250/250 [==============================] - 0s 992us/step - loss: 0.3718 - accuracy: 0.8290\n",
            "Epoch 86/120\n",
            "250/250 [==============================] - 0s 1ms/step - loss: 0.3770 - accuracy: 0.8296\n",
            "Epoch 87/120\n",
            "250/250 [==============================] - 0s 1ms/step - loss: 0.3734 - accuracy: 0.8328\n",
            "Epoch 88/120\n",
            "250/250 [==============================] - 0s 1ms/step - loss: 0.3721 - accuracy: 0.8331\n",
            "Epoch 89/120\n",
            "250/250 [==============================] - 0s 976us/step - loss: 0.3758 - accuracy: 0.8304\n",
            "Epoch 90/120\n",
            "250/250 [==============================] - 0s 1ms/step - loss: 0.3744 - accuracy: 0.8275\n",
            "Epoch 91/120\n",
            "250/250 [==============================] - 0s 999us/step - loss: 0.3694 - accuracy: 0.8339\n",
            "Epoch 92/120\n",
            "250/250 [==============================] - 0s 996us/step - loss: 0.3726 - accuracy: 0.8388\n",
            "Epoch 93/120\n",
            "250/250 [==============================] - 0s 1ms/step - loss: 0.3726 - accuracy: 0.8430\n",
            "Epoch 94/120\n",
            "250/250 [==============================] - 0s 1ms/step - loss: 0.3728 - accuracy: 0.8363\n",
            "Epoch 95/120\n",
            "250/250 [==============================] - 0s 1ms/step - loss: 0.3712 - accuracy: 0.8407\n",
            "Epoch 96/120\n",
            "250/250 [==============================] - 0s 950us/step - loss: 0.3743 - accuracy: 0.8409\n",
            "Epoch 97/120\n",
            "250/250 [==============================] - 0s 1ms/step - loss: 0.3713 - accuracy: 0.8332\n",
            "Epoch 98/120\n",
            "250/250 [==============================] - 0s 984us/step - loss: 0.3701 - accuracy: 0.8380\n",
            "Epoch 99/120\n",
            "250/250 [==============================] - 0s 1ms/step - loss: 0.3714 - accuracy: 0.8428\n",
            "Epoch 100/120\n",
            "250/250 [==============================] - 0s 1ms/step - loss: 0.3731 - accuracy: 0.8401\n",
            "Epoch 101/120\n",
            "250/250 [==============================] - 0s 1ms/step - loss: 0.3712 - accuracy: 0.8455\n",
            "Epoch 102/120\n",
            "250/250 [==============================] - 0s 1ms/step - loss: 0.3696 - accuracy: 0.8443\n",
            "Epoch 103/120\n",
            "250/250 [==============================] - 0s 1ms/step - loss: 0.3688 - accuracy: 0.8464\n",
            "Epoch 104/120\n",
            "250/250 [==============================] - 0s 975us/step - loss: 0.3754 - accuracy: 0.8430\n",
            "Epoch 105/120\n",
            "250/250 [==============================] - 0s 1ms/step - loss: 0.3721 - accuracy: 0.8441\n",
            "Epoch 106/120\n",
            "250/250 [==============================] - 0s 1ms/step - loss: 0.3761 - accuracy: 0.8447\n",
            "Epoch 107/120\n",
            "250/250 [==============================] - 0s 1ms/step - loss: 0.3719 - accuracy: 0.8435\n",
            "Epoch 108/120\n",
            "250/250 [==============================] - 0s 1ms/step - loss: 0.3742 - accuracy: 0.8450\n",
            "Epoch 109/120\n",
            "250/250 [==============================] - 0s 1ms/step - loss: 0.3768 - accuracy: 0.8369\n",
            "Epoch 110/120\n",
            "250/250 [==============================] - 0s 994us/step - loss: 0.3674 - accuracy: 0.8459\n",
            "Epoch 111/120\n",
            "250/250 [==============================] - 0s 1ms/step - loss: 0.3731 - accuracy: 0.8449\n",
            "Epoch 112/120\n",
            "250/250 [==============================] - 0s 1ms/step - loss: 0.3711 - accuracy: 0.8443\n",
            "Epoch 113/120\n",
            "250/250 [==============================] - 0s 995us/step - loss: 0.3704 - accuracy: 0.8444\n",
            "Epoch 114/120\n",
            "250/250 [==============================] - 0s 1ms/step - loss: 0.3692 - accuracy: 0.8481\n",
            "Epoch 115/120\n",
            "250/250 [==============================] - 0s 969us/step - loss: 0.3744 - accuracy: 0.8443\n",
            "Epoch 116/120\n",
            "250/250 [==============================] - 0s 1ms/step - loss: 0.3731 - accuracy: 0.8465\n",
            "Epoch 117/120\n",
            "250/250 [==============================] - 0s 982us/step - loss: 0.3711 - accuracy: 0.8484\n",
            "Epoch 118/120\n",
            "250/250 [==============================] - 0s 1ms/step - loss: 0.3691 - accuracy: 0.8434\n",
            "Epoch 119/120\n",
            "250/250 [==============================] - 0s 985us/step - loss: 0.3717 - accuracy: 0.8436\n",
            "Epoch 120/120\n",
            "250/250 [==============================] - 0s 1ms/step - loss: 0.3719 - accuracy: 0.8438\n"
          ],
          "name": "stdout"
        }
      ]
    },
    {
      "cell_type": "markdown",
      "metadata": {
        "id": "KVzQnHQ-IYwF"
      },
      "source": [
        "پیش بینی داده های تست روی شبکه\n"
      ]
    },
    {
      "cell_type": "code",
      "metadata": {
        "id": "mfglGg6FIYwU",
        "outputId": "f727893d-4e17-406f-ad3b-5c872f35180c",
        "colab": {
          "base_uri": "https://localhost:8080/"
        }
      },
      "source": [
        "y_pred3 = ann3.predict(X_test)\n",
        "\n",
        "y_pred3 = (y_pred3 > 0.5)\n",
        "\n",
        "print(y_pred3)"
      ],
      "execution_count": 148,
      "outputs": [
        {
          "output_type": "stream",
          "text": [
            "[[False]\n",
            " [False]\n",
            " [False]\n",
            " ...\n",
            " [False]\n",
            " [False]\n",
            " [False]]\n"
          ],
          "name": "stdout"
        }
      ]
    },
    {
      "cell_type": "markdown",
      "metadata": {
        "id": "xeoOgEbOIYwf"
      },
      "source": [
        "به دست اوردن درصد دقت"
      ]
    },
    {
      "cell_type": "code",
      "metadata": {
        "id": "CbVMkOInIYwh",
        "outputId": "d684d746-269c-4e3f-8fb6-1f418c128770",
        "colab": {
          "base_uri": "https://localhost:8080/"
        }
      },
      "source": [
        "from sklearn.metrics import confusion_matrix, accuracy_score\n",
        "confusion_matrix = confusion_matrix(y_test, y_pred3)\n",
        "print(confusion_matrix)\n",
        "accuracy_score(y_test, y_pred3)"
      ],
      "execution_count": 154,
      "outputs": [
        {
          "output_type": "stream",
          "text": [
            "[[1532   63]\n",
            " [ 212  193]]\n"
          ],
          "name": "stdout"
        },
        {
          "output_type": "execute_result",
          "data": {
            "text/plain": [
              "0.8625"
            ]
          },
          "metadata": {
            "tags": []
          },
          "execution_count": 154
        }
      ]
    },
    {
      "cell_type": "code",
      "metadata": {
        "id": "LfzWmw6UIYwm",
        "outputId": "72a050aa-a433-45b6-e085-25fb14292089",
        "colab": {
          "base_uri": "https://localhost:8080/",
          "height": 332
        }
      },
      "source": [
        " print(history3.history.keys())  \n",
        "plt.plot(history3.history['loss'])\n",
        "plt.title('model loss')\n",
        "plt.ylabel('loss')\n",
        "plt.xlabel('epoch')\n",
        "plt.legend(['train', 'val'], loc='upper left')\n",
        "plt.show()"
      ],
      "execution_count": 150,
      "outputs": [
        {
          "output_type": "stream",
          "text": [
            "dict_keys(['loss', 'accuracy'])\n"
          ],
          "name": "stdout"
        },
        {
          "output_type": "display_data",
          "data": {
            "image/png": "[encoded data removed]",
            "text/plain": [
              "<Figure size 432x288 with 1 Axes>"
            ]
          },
          "metadata": {
            "tags": []
          }
        }
      ]
    },
    {
      "cell_type": "code",
      "metadata": {
        "id": "MmNXXACJIYwr",
        "outputId": "f96c8061-a84f-40cd-f667-ee63317162e0",
        "colab": {
          "base_uri": "https://localhost:8080/",
          "height": 315
        }
      },
      "source": [
        "plt.plot(history3.history['accuracy'])\n",
        "plt.title('model accuracy')\n",
        "plt.ylabel('accuracy')\n",
        "plt.xlabel('epoch')\n",
        "plt.legend(['train', 'val'], loc='upper left')\n",
        "plt.show()"
      ],
      "execution_count": 151,
      "outputs": [
        {
          "output_type": "display_data",
          "data": {
            "image/png": "[encoded data removed]",
            "text/plain": [
              "<Figure size 432x288 with 1 Axes>"
            ]
          },
          "metadata": {
            "tags": []
          }
        }
      ]
    }
  ]
}